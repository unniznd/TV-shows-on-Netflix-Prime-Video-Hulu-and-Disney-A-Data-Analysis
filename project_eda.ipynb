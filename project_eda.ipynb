{
  "nbformat": 4,
  "nbformat_minor": 0,
  "metadata": {
    "colab": {
      "name": "project_eda.ipynb",
      "provenance": [],
      "collapsed_sections": [],
      "authorship_tag": "ABX9TyP7O9z8Fz/SfZ6tUdnISiW3",
      "include_colab_link": true
    },
    "kernelspec": {
      "name": "python3",
      "display_name": "Python 3"
    }
  },
  "cells": [
    {
      "cell_type": "markdown",
      "metadata": {
        "id": "view-in-github",
        "colab_type": "text"
      },
      "source": [
        "<a href=\"https://colab.research.google.com/github/aanandunnis/TV-shows-on-Netflix-Prime-Video-Hulu-and-Disney-A-Data-Analysis/blob/main/project_eda.ipynb\" target=\"_parent\"><img src=\"https://colab.research.google.com/assets/colab-badge.svg\" alt=\"Open In Colab\"/></a>"
      ]
    },
    {
      "cell_type": "markdown",
      "metadata": {
        "id": "0kmxX9geP2hn"
      },
      "source": [
        "# **TV shows on Netflix, Prime Video, Hulu and Disney+ : A Data Analysis**\n",
        "## **Content**\n",
        "\n",
        "The data scraped comprises a comprehensive list of tv shows available on various streaming platforms\n",
        "\n",
        "## **Aim**\n",
        "To find the best streaming platform from Netflix, Prime Video, Hulu and Disney+\n",
        "\n",
        "## **Inspiration**\n",
        "\n",
        "1) Which streaming platform(s) can I find this tv show on?\n",
        "\n",
        "2) IMDb ratings of a tv show?\n",
        "\n",
        "3) Target age group tv shows vs the streaming application they can be found on\n",
        "\n",
        "4) The year during which a tv show was produced and the streaming \n",
        "platform they can be found on"
      ]
    },
    {
      "cell_type": "code",
      "metadata": {
        "colab": {
          "base_uri": "https://localhost:8080/"
        },
        "id": "wLsFdenym458",
        "outputId": "73b71dce-9754-4e8e-c5ed-dda012daaf1a"
      },
      "source": [
        "from google.colab import drive\n",
        "drive.mount('/content/drive')"
      ],
      "execution_count": null,
      "outputs": [
        {
          "output_type": "stream",
          "text": [
            "Mounted at /content/drive\n"
          ],
          "name": "stdout"
        }
      ]
    },
    {
      "cell_type": "code",
      "metadata": {
        "colab": {
          "base_uri": "https://localhost:8080/",
          "height": 334
        },
        "id": "afSWWG-yCvNG",
        "outputId": "478bedeb-a116-48e0-f6e3-9d95d980a821"
      },
      "source": [
        "import opendatasets as od\n",
        "dataset_url = 'https://www.kaggle.com/ruchi798/tv-shows-on-netflix-prime-video-hulu-and-disney'\n",
        "od.download(dataset_url)"
      ],
      "execution_count": null,
      "outputs": [
        {
          "output_type": "error",
          "ename": "ModuleNotFoundError",
          "evalue": "ignored",
          "traceback": [
            "\u001b[0;31m---------------------------------------------------------------------------\u001b[0m",
            "\u001b[0;31mModuleNotFoundError\u001b[0m                       Traceback (most recent call last)",
            "\u001b[0;32m<ipython-input-3-3a629bfe7d48>\u001b[0m in \u001b[0;36m<module>\u001b[0;34m()\u001b[0m\n\u001b[0;32m----> 1\u001b[0;31m \u001b[0;32mimport\u001b[0m \u001b[0mopendatasets\u001b[0m \u001b[0;32mas\u001b[0m \u001b[0mod\u001b[0m\u001b[0;34m\u001b[0m\u001b[0;34m\u001b[0m\u001b[0m\n\u001b[0m\u001b[1;32m      2\u001b[0m \u001b[0mdataset_url\u001b[0m \u001b[0;34m=\u001b[0m \u001b[0;34m'https://www.kaggle.com/ruchi798/tv-shows-on-netflix-prime-video-hulu-and-disney'\u001b[0m\u001b[0;34m\u001b[0m\u001b[0;34m\u001b[0m\u001b[0m\n\u001b[1;32m      3\u001b[0m \u001b[0mod\u001b[0m\u001b[0;34m.\u001b[0m\u001b[0mdownload\u001b[0m\u001b[0;34m(\u001b[0m\u001b[0mdataset_url\u001b[0m\u001b[0;34m)\u001b[0m\u001b[0;34m\u001b[0m\u001b[0;34m\u001b[0m\u001b[0m\n",
            "\u001b[0;31mModuleNotFoundError\u001b[0m: No module named 'opendatasets'",
            "",
            "\u001b[0;31m---------------------------------------------------------------------------\u001b[0;32m\nNOTE: If your import is failing due to a missing package, you can\nmanually install dependencies using either !pip or !apt.\n\nTo view examples of installing some common dependencies, click the\n\"Open Examples\" button below.\n\u001b[0;31m---------------------------------------------------------------------------\u001b[0m\n"
          ]
        }
      ]
    },
    {
      "cell_type": "code",
      "metadata": {
        "id": "Io1AePBonZO_"
      },
      "source": [
        "import pandas as pd\n",
        "import numpy as np\n",
        "import seaborn as sns\n",
        "import matplotlib.pyplot as plt\n",
        "\n",
        "%matplotlib inline"
      ],
      "execution_count": null,
      "outputs": []
    },
    {
      "cell_type": "code",
      "metadata": {
        "colab": {
          "base_uri": "https://localhost:8080/",
          "height": 204
        },
        "id": "MQG6uvcUoHwW",
        "outputId": "8abecadb-e1ae-483e-cc36-09a8485f94ae"
      },
      "source": [
        "df = pd.read_csv('/content/drive/MyDrive/project eda/tv_shows.csv')\n",
        "df.head()"
      ],
      "execution_count": null,
      "outputs": [
        {
          "output_type": "execute_result",
          "data": {
            "text/html": [
              "<div>\n",
              "<style scoped>\n",
              "    .dataframe tbody tr th:only-of-type {\n",
              "        vertical-align: middle;\n",
              "    }\n",
              "\n",
              "    .dataframe tbody tr th {\n",
              "        vertical-align: top;\n",
              "    }\n",
              "\n",
              "    .dataframe thead th {\n",
              "        text-align: right;\n",
              "    }\n",
              "</style>\n",
              "<table border=\"1\" class=\"dataframe\">\n",
              "  <thead>\n",
              "    <tr style=\"text-align: right;\">\n",
              "      <th></th>\n",
              "      <th>Unnamed: 0</th>\n",
              "      <th>Title</th>\n",
              "      <th>Year</th>\n",
              "      <th>Age</th>\n",
              "      <th>IMDb</th>\n",
              "      <th>Rotten Tomatoes</th>\n",
              "      <th>Netflix</th>\n",
              "      <th>Hulu</th>\n",
              "      <th>Prime Video</th>\n",
              "      <th>Disney+</th>\n",
              "      <th>type</th>\n",
              "    </tr>\n",
              "  </thead>\n",
              "  <tbody>\n",
              "    <tr>\n",
              "      <th>0</th>\n",
              "      <td>0</td>\n",
              "      <td>Breaking Bad</td>\n",
              "      <td>2008</td>\n",
              "      <td>18+</td>\n",
              "      <td>9.5</td>\n",
              "      <td>96%</td>\n",
              "      <td>1</td>\n",
              "      <td>0</td>\n",
              "      <td>0</td>\n",
              "      <td>0</td>\n",
              "      <td>1</td>\n",
              "    </tr>\n",
              "    <tr>\n",
              "      <th>1</th>\n",
              "      <td>1</td>\n",
              "      <td>Stranger Things</td>\n",
              "      <td>2016</td>\n",
              "      <td>16+</td>\n",
              "      <td>8.8</td>\n",
              "      <td>93%</td>\n",
              "      <td>1</td>\n",
              "      <td>0</td>\n",
              "      <td>0</td>\n",
              "      <td>0</td>\n",
              "      <td>1</td>\n",
              "    </tr>\n",
              "    <tr>\n",
              "      <th>2</th>\n",
              "      <td>2</td>\n",
              "      <td>Money Heist</td>\n",
              "      <td>2017</td>\n",
              "      <td>18+</td>\n",
              "      <td>8.4</td>\n",
              "      <td>91%</td>\n",
              "      <td>1</td>\n",
              "      <td>0</td>\n",
              "      <td>0</td>\n",
              "      <td>0</td>\n",
              "      <td>1</td>\n",
              "    </tr>\n",
              "    <tr>\n",
              "      <th>3</th>\n",
              "      <td>3</td>\n",
              "      <td>Sherlock</td>\n",
              "      <td>2010</td>\n",
              "      <td>16+</td>\n",
              "      <td>9.1</td>\n",
              "      <td>78%</td>\n",
              "      <td>1</td>\n",
              "      <td>0</td>\n",
              "      <td>0</td>\n",
              "      <td>0</td>\n",
              "      <td>1</td>\n",
              "    </tr>\n",
              "    <tr>\n",
              "      <th>4</th>\n",
              "      <td>4</td>\n",
              "      <td>Better Call Saul</td>\n",
              "      <td>2015</td>\n",
              "      <td>18+</td>\n",
              "      <td>8.7</td>\n",
              "      <td>97%</td>\n",
              "      <td>1</td>\n",
              "      <td>0</td>\n",
              "      <td>0</td>\n",
              "      <td>0</td>\n",
              "      <td>1</td>\n",
              "    </tr>\n",
              "  </tbody>\n",
              "</table>\n",
              "</div>"
            ],
            "text/plain": [
              "   Unnamed: 0             Title  Year  Age  ...  Hulu Prime Video  Disney+  type\n",
              "0           0      Breaking Bad  2008  18+  ...     0           0        0     1\n",
              "1           1   Stranger Things  2016  16+  ...     0           0        0     1\n",
              "2           2       Money Heist  2017  18+  ...     0           0        0     1\n",
              "3           3          Sherlock  2010  16+  ...     0           0        0     1\n",
              "4           4  Better Call Saul  2015  18+  ...     0           0        0     1\n",
              "\n",
              "[5 rows x 11 columns]"
            ]
          },
          "metadata": {
            "tags": []
          },
          "execution_count": 89
        }
      ]
    },
    {
      "cell_type": "markdown",
      "metadata": {
        "id": "3PhxwS74Q-Rr"
      },
      "source": [
        "# Understaing the data."
      ]
    },
    {
      "cell_type": "code",
      "metadata": {
        "colab": {
          "base_uri": "https://localhost:8080/"
        },
        "id": "9-b2GeNboVSG",
        "outputId": "a5580a41-b078-4ee1-cd43-70c1abb016cf"
      },
      "source": [
        "df.shape"
      ],
      "execution_count": null,
      "outputs": [
        {
          "output_type": "execute_result",
          "data": {
            "text/plain": [
              "(5611, 11)"
            ]
          },
          "metadata": {
            "tags": []
          },
          "execution_count": 90
        }
      ]
    },
    {
      "cell_type": "code",
      "metadata": {
        "colab": {
          "base_uri": "https://localhost:8080/"
        },
        "id": "vrDWmBivo_D7",
        "outputId": "c50b8c29-656e-4b98-bae1-f69ff56071e8"
      },
      "source": [
        "df.info()"
      ],
      "execution_count": null,
      "outputs": [
        {
          "output_type": "stream",
          "text": [
            "<class 'pandas.core.frame.DataFrame'>\n",
            "RangeIndex: 5611 entries, 0 to 5610\n",
            "Data columns (total 11 columns):\n",
            " #   Column           Non-Null Count  Dtype  \n",
            "---  ------           --------------  -----  \n",
            " 0   Unnamed: 0       5611 non-null   int64  \n",
            " 1   Title            5611 non-null   object \n",
            " 2   Year             5611 non-null   int64  \n",
            " 3   Age              3165 non-null   object \n",
            " 4   IMDb             4450 non-null   float64\n",
            " 5   Rotten Tomatoes  1011 non-null   object \n",
            " 6   Netflix          5611 non-null   int64  \n",
            " 7   Hulu             5611 non-null   int64  \n",
            " 8   Prime Video      5611 non-null   int64  \n",
            " 9   Disney+          5611 non-null   int64  \n",
            " 10  type             5611 non-null   int64  \n",
            "dtypes: float64(1), int64(7), object(3)\n",
            "memory usage: 482.3+ KB\n"
          ],
          "name": "stdout"
        }
      ]
    },
    {
      "cell_type": "code",
      "metadata": {
        "colab": {
          "base_uri": "https://localhost:8080/"
        },
        "id": "jQMJXfiZuS0z",
        "outputId": "5b3c4075-ce92-4697-af96-f3e2a534324f"
      },
      "source": [
        "df['type'].value_counts()"
      ],
      "execution_count": null,
      "outputs": [
        {
          "output_type": "execute_result",
          "data": {
            "text/plain": [
              "1    5611\n",
              "Name: type, dtype: int64"
            ]
          },
          "metadata": {
            "tags": []
          },
          "execution_count": 92
        }
      ]
    },
    {
      "cell_type": "markdown",
      "metadata": {
        "id": "P2SwucGTReSf"
      },
      "source": [
        "## **Observation**\n",
        "1)Data missing in the IMDb, Age and Rotten Tomatoes\n",
        "\n",
        "2)The data only contain single type of data, TV Shows "
      ]
    },
    {
      "cell_type": "markdown",
      "metadata": {
        "id": "aelT9I7dRWXf"
      },
      "source": [
        "# Filling the Missing Data"
      ]
    },
    {
      "cell_type": "code",
      "metadata": {
        "colab": {
          "base_uri": "https://localhost:8080/"
        },
        "id": "1wVFYlJepxX0",
        "outputId": "d7a5c86e-a723-4f8e-d80d-7bce7f5c8ee8"
      },
      "source": [
        "df['Age'].value_counts()"
      ],
      "execution_count": null,
      "outputs": [
        {
          "output_type": "execute_result",
          "data": {
            "text/plain": [
              "16+    1018\n",
              "7+      848\n",
              "18+     750\n",
              "all     545\n",
              "13+       4\n",
              "Name: Age, dtype: int64"
            ]
          },
          "metadata": {
            "tags": []
          },
          "execution_count": 93
        }
      ]
    },
    {
      "cell_type": "markdown",
      "metadata": {
        "id": "gWO9nrzCSRJe"
      },
      "source": [
        "Most of the TV Shows are 16+. So assuming the missing values is the same"
      ]
    },
    {
      "cell_type": "code",
      "metadata": {
        "id": "Z5fF436bqUay"
      },
      "source": [
        "df['Age'].fillna(value = '16+', inplace = True)\n"
      ],
      "execution_count": null,
      "outputs": []
    },
    {
      "cell_type": "code",
      "metadata": {
        "colab": {
          "base_uri": "https://localhost:8080/",
          "height": 297
        },
        "id": "Z7ARzZsar86A",
        "outputId": "91f1ecda-cd2e-44e6-b50c-615bf936ad8f"
      },
      "source": [
        "df['IMDb'].describe().to_frame()"
      ],
      "execution_count": null,
      "outputs": [
        {
          "output_type": "execute_result",
          "data": {
            "text/html": [
              "<div>\n",
              "<style scoped>\n",
              "    .dataframe tbody tr th:only-of-type {\n",
              "        vertical-align: middle;\n",
              "    }\n",
              "\n",
              "    .dataframe tbody tr th {\n",
              "        vertical-align: top;\n",
              "    }\n",
              "\n",
              "    .dataframe thead th {\n",
              "        text-align: right;\n",
              "    }\n",
              "</style>\n",
              "<table border=\"1\" class=\"dataframe\">\n",
              "  <thead>\n",
              "    <tr style=\"text-align: right;\">\n",
              "      <th></th>\n",
              "      <th>IMDb</th>\n",
              "    </tr>\n",
              "  </thead>\n",
              "  <tbody>\n",
              "    <tr>\n",
              "      <th>count</th>\n",
              "      <td>4450.000000</td>\n",
              "    </tr>\n",
              "    <tr>\n",
              "      <th>mean</th>\n",
              "      <td>7.113258</td>\n",
              "    </tr>\n",
              "    <tr>\n",
              "      <th>std</th>\n",
              "      <td>1.132060</td>\n",
              "    </tr>\n",
              "    <tr>\n",
              "      <th>min</th>\n",
              "      <td>1.000000</td>\n",
              "    </tr>\n",
              "    <tr>\n",
              "      <th>25%</th>\n",
              "      <td>6.600000</td>\n",
              "    </tr>\n",
              "    <tr>\n",
              "      <th>50%</th>\n",
              "      <td>7.300000</td>\n",
              "    </tr>\n",
              "    <tr>\n",
              "      <th>75%</th>\n",
              "      <td>7.900000</td>\n",
              "    </tr>\n",
              "    <tr>\n",
              "      <th>max</th>\n",
              "      <td>9.600000</td>\n",
              "    </tr>\n",
              "  </tbody>\n",
              "</table>\n",
              "</div>"
            ],
            "text/plain": [
              "              IMDb\n",
              "count  4450.000000\n",
              "mean      7.113258\n",
              "std       1.132060\n",
              "min       1.000000\n",
              "25%       6.600000\n",
              "50%       7.300000\n",
              "75%       7.900000\n",
              "max       9.600000"
            ]
          },
          "metadata": {
            "tags": []
          },
          "execution_count": 95
        }
      ]
    },
    {
      "cell_type": "markdown",
      "metadata": {
        "id": "3v_KLNUxUSei"
      },
      "source": [
        "50th percentile of IMDb is 7.3 , filling rest with the same"
      ]
    },
    {
      "cell_type": "code",
      "metadata": {
        "id": "WZuDHj3Rsug_"
      },
      "source": [
        "df['IMDb'].fillna(value = 7.3,inplace = True)\n"
      ],
      "execution_count": null,
      "outputs": []
    },
    {
      "cell_type": "markdown",
      "metadata": {
        "id": "zeeZnLXiUkJ1"
      },
      "source": [
        "1)Large number of Null Value in **'Rotten Tomatoes'**. Hence droping the column\n",
        "\n",
        "2)There is only one type of data,TV shows. Hence droping the type column"
      ]
    },
    {
      "cell_type": "code",
      "metadata": {
        "id": "ZgPKY8KAs8-0"
      },
      "source": [
        "df.drop('Rotten Tomatoes', axis = 1,inplace=True)\n"
      ],
      "execution_count": null,
      "outputs": []
    },
    {
      "cell_type": "code",
      "metadata": {
        "id": "oM_3U0T_TIJg"
      },
      "source": [
        "df.drop('type',axis = 1, inplace = True)"
      ],
      "execution_count": null,
      "outputs": []
    },
    {
      "cell_type": "markdown",
      "metadata": {
        "id": "47TeonOJVfPt"
      },
      "source": [
        "# Overview of the Data"
      ]
    },
    {
      "cell_type": "code",
      "metadata": {
        "colab": {
          "base_uri": "https://localhost:8080/"
        },
        "id": "aM3DDf6AtyOW",
        "outputId": "31c6a406-cc5d-4bab-cdad-f1da0ddacf7c"
      },
      "source": [
        "df.info()"
      ],
      "execution_count": null,
      "outputs": [
        {
          "output_type": "stream",
          "text": [
            "<class 'pandas.core.frame.DataFrame'>\n",
            "RangeIndex: 5611 entries, 0 to 5610\n",
            "Data columns (total 9 columns):\n",
            " #   Column       Non-Null Count  Dtype  \n",
            "---  ------       --------------  -----  \n",
            " 0   Unnamed: 0   5611 non-null   int64  \n",
            " 1   Title        5611 non-null   object \n",
            " 2   Year         5611 non-null   int64  \n",
            " 3   Age          5611 non-null   object \n",
            " 4   IMDb         5611 non-null   float64\n",
            " 5   Netflix      5611 non-null   int64  \n",
            " 6   Hulu         5611 non-null   int64  \n",
            " 7   Prime Video  5611 non-null   int64  \n",
            " 8   Disney+      5611 non-null   int64  \n",
            "dtypes: float64(1), int64(6), object(2)\n",
            "memory usage: 394.6+ KB\n"
          ],
          "name": "stdout"
        }
      ]
    },
    {
      "cell_type": "code",
      "metadata": {
        "colab": {
          "base_uri": "https://localhost:8080/",
          "height": 297
        },
        "id": "IOK0hwD9t3R3",
        "outputId": "14951611-624f-4071-fe0e-85bad8eaa32b"
      },
      "source": [
        "df.describe()"
      ],
      "execution_count": null,
      "outputs": [
        {
          "output_type": "execute_result",
          "data": {
            "text/html": [
              "<div>\n",
              "<style scoped>\n",
              "    .dataframe tbody tr th:only-of-type {\n",
              "        vertical-align: middle;\n",
              "    }\n",
              "\n",
              "    .dataframe tbody tr th {\n",
              "        vertical-align: top;\n",
              "    }\n",
              "\n",
              "    .dataframe thead th {\n",
              "        text-align: right;\n",
              "    }\n",
              "</style>\n",
              "<table border=\"1\" class=\"dataframe\">\n",
              "  <thead>\n",
              "    <tr style=\"text-align: right;\">\n",
              "      <th></th>\n",
              "      <th>Unnamed: 0</th>\n",
              "      <th>Year</th>\n",
              "      <th>IMDb</th>\n",
              "      <th>Netflix</th>\n",
              "      <th>Hulu</th>\n",
              "      <th>Prime Video</th>\n",
              "      <th>Disney+</th>\n",
              "    </tr>\n",
              "  </thead>\n",
              "  <tbody>\n",
              "    <tr>\n",
              "      <th>count</th>\n",
              "      <td>5611.000000</td>\n",
              "      <td>5611.000000</td>\n",
              "      <td>5611.000000</td>\n",
              "      <td>5611.000000</td>\n",
              "      <td>5611.000000</td>\n",
              "      <td>5611.000000</td>\n",
              "      <td>5611.000000</td>\n",
              "    </tr>\n",
              "    <tr>\n",
              "      <th>mean</th>\n",
              "      <td>2805.000000</td>\n",
              "      <td>2011.021030</td>\n",
              "      <td>7.151898</td>\n",
              "      <td>0.344145</td>\n",
              "      <td>0.312600</td>\n",
              "      <td>0.382107</td>\n",
              "      <td>0.032080</td>\n",
              "    </tr>\n",
              "    <tr>\n",
              "      <th>std</th>\n",
              "      <td>1619.900511</td>\n",
              "      <td>11.005116</td>\n",
              "      <td>1.010971</td>\n",
              "      <td>0.475131</td>\n",
              "      <td>0.463594</td>\n",
              "      <td>0.485946</td>\n",
              "      <td>0.176228</td>\n",
              "    </tr>\n",
              "    <tr>\n",
              "      <th>min</th>\n",
              "      <td>0.000000</td>\n",
              "      <td>1901.000000</td>\n",
              "      <td>1.000000</td>\n",
              "      <td>0.000000</td>\n",
              "      <td>0.000000</td>\n",
              "      <td>0.000000</td>\n",
              "      <td>0.000000</td>\n",
              "    </tr>\n",
              "    <tr>\n",
              "      <th>25%</th>\n",
              "      <td>1402.500000</td>\n",
              "      <td>2010.000000</td>\n",
              "      <td>6.800000</td>\n",
              "      <td>0.000000</td>\n",
              "      <td>0.000000</td>\n",
              "      <td>0.000000</td>\n",
              "      <td>0.000000</td>\n",
              "    </tr>\n",
              "    <tr>\n",
              "      <th>50%</th>\n",
              "      <td>2805.000000</td>\n",
              "      <td>2015.000000</td>\n",
              "      <td>7.300000</td>\n",
              "      <td>0.000000</td>\n",
              "      <td>0.000000</td>\n",
              "      <td>0.000000</td>\n",
              "      <td>0.000000</td>\n",
              "    </tr>\n",
              "    <tr>\n",
              "      <th>75%</th>\n",
              "      <td>4207.500000</td>\n",
              "      <td>2017.000000</td>\n",
              "      <td>7.700000</td>\n",
              "      <td>1.000000</td>\n",
              "      <td>1.000000</td>\n",
              "      <td>1.000000</td>\n",
              "      <td>0.000000</td>\n",
              "    </tr>\n",
              "    <tr>\n",
              "      <th>max</th>\n",
              "      <td>5610.000000</td>\n",
              "      <td>2020.000000</td>\n",
              "      <td>9.600000</td>\n",
              "      <td>1.000000</td>\n",
              "      <td>1.000000</td>\n",
              "      <td>1.000000</td>\n",
              "      <td>1.000000</td>\n",
              "    </tr>\n",
              "  </tbody>\n",
              "</table>\n",
              "</div>"
            ],
            "text/plain": [
              "        Unnamed: 0         Year  ...  Prime Video      Disney+\n",
              "count  5611.000000  5611.000000  ...  5611.000000  5611.000000\n",
              "mean   2805.000000  2011.021030  ...     0.382107     0.032080\n",
              "std    1619.900511    11.005116  ...     0.485946     0.176228\n",
              "min       0.000000  1901.000000  ...     0.000000     0.000000\n",
              "25%    1402.500000  2010.000000  ...     0.000000     0.000000\n",
              "50%    2805.000000  2015.000000  ...     0.000000     0.000000\n",
              "75%    4207.500000  2017.000000  ...     1.000000     0.000000\n",
              "max    5610.000000  2020.000000  ...     1.000000     1.000000\n",
              "\n",
              "[8 rows x 7 columns]"
            ]
          },
          "metadata": {
            "tags": []
          },
          "execution_count": 100
        }
      ]
    },
    {
      "cell_type": "markdown",
      "metadata": {
        "id": "uDo82OxHVlVC"
      },
      "source": [
        "**Observations**\n",
        "\n",
        "1) This dataset contain TV shows from 1901 to 2020\n",
        "\n",
        "2) Highest IMDb rated TV show is 9.6 and 1.0 as the lowest\n",
        "\n",
        "3) 38.21% TV Shows are in Prime Videos \n"
      ]
    },
    {
      "cell_type": "markdown",
      "metadata": {
        "id": "4yL1eAPMW4Xt"
      },
      "source": [
        "# **Analytical Approach : A Detailed data analysis**"
      ]
    },
    {
      "cell_type": "code",
      "metadata": {
        "id": "XlpRDh2Hpynx"
      },
      "source": [
        "import matplotlib\n",
        "\n",
        "sns.set_style('dark')\n",
        "matplotlib.rcParams['font.size'] = 14\n",
        "matplotlib.rcParams['figure.figsize'] = (9, 5)\n",
        "matplotlib.rcParams['figure.facecolor'] = '#00000000'"
      ],
      "execution_count": null,
      "outputs": []
    },
    {
      "cell_type": "code",
      "metadata": {
        "colab": {
          "base_uri": "https://localhost:8080/",
          "height": 413
        },
        "id": "mGrdFZhM5lcw",
        "outputId": "c0fcf9ab-ba52-40f5-f38e-7d5886373fe7"
      },
      "source": [
        "sns.distplot(df['Year'])"
      ],
      "execution_count": null,
      "outputs": [
        {
          "output_type": "stream",
          "text": [
            "/usr/local/lib/python3.6/dist-packages/seaborn/distributions.py:2551: FutureWarning: `distplot` is a deprecated function and will be removed in a future version. Please adapt your code to use either `displot` (a figure-level function with similar flexibility) or `histplot` (an axes-level function for histograms).\n",
            "  warnings.warn(msg, FutureWarning)\n"
          ],
          "name": "stderr"
        },
        {
          "output_type": "execute_result",
          "data": {
            "text/plain": [
              "<matplotlib.axes._subplots.AxesSubplot at 0x7f7020f02860>"
            ]
          },
          "metadata": {
            "tags": []
          },
          "execution_count": 110
        },
        {
          "output_type": "display_data",
          "data": {
            "image/png": "[encoded data removed]",
            "text/plain": [
              "<Figure size 648x360 with 1 Axes>"
            ]
          },
          "metadata": {
            "tags": [],
            "needs_background": "light"
          }
        }
      ]
    },
    {
      "cell_type": "markdown",
      "metadata": {
        "id": "jiz5jJcdXcN4"
      },
      "source": [
        "**Observation**\n",
        "\n",
        "By the beginning of the 21th century there is a trendomous\n"
      ]
    },
    {
      "cell_type": "code",
      "metadata": {
        "colab": {
          "base_uri": "https://localhost:8080/",
          "height": 359
        },
        "id": "G_k64P4YjE_U",
        "outputId": "c5a19861-5456-4b46-f219-d6c5aeb19fd7"
      },
      "source": [
        "top_imdb_rated = df[['Title','IMDb']]\n",
        "top_imdb_rated = top_imdb_rated.sort_values(by = 'IMDb',ascending=False)[:10]\n",
        "top_imdb_rated"
      ],
      "execution_count": null,
      "outputs": [
        {
          "output_type": "execute_result",
          "data": {
            "text/html": [
              "<div>\n",
              "<style scoped>\n",
              "    .dataframe tbody tr th:only-of-type {\n",
              "        vertical-align: middle;\n",
              "    }\n",
              "\n",
              "    .dataframe tbody tr th {\n",
              "        vertical-align: top;\n",
              "    }\n",
              "\n",
              "    .dataframe thead th {\n",
              "        text-align: right;\n",
              "    }\n",
              "</style>\n",
              "<table border=\"1\" class=\"dataframe\">\n",
              "  <thead>\n",
              "    <tr style=\"text-align: right;\">\n",
              "      <th></th>\n",
              "      <th>Title</th>\n",
              "      <th>IMDb</th>\n",
              "    </tr>\n",
              "  </thead>\n",
              "  <tbody>\n",
              "    <tr>\n",
              "      <th>3023</th>\n",
              "      <td>Destiny</td>\n",
              "      <td>9.6</td>\n",
              "    </tr>\n",
              "    <tr>\n",
              "      <th>0</th>\n",
              "      <td>Breaking Bad</td>\n",
              "      <td>9.5</td>\n",
              "    </tr>\n",
              "    <tr>\n",
              "      <th>3177</th>\n",
              "      <td>Hungry Henry</td>\n",
              "      <td>9.5</td>\n",
              "    </tr>\n",
              "    <tr>\n",
              "      <th>3747</th>\n",
              "      <td>Malgudi Days</td>\n",
              "      <td>9.5</td>\n",
              "    </tr>\n",
              "    <tr>\n",
              "      <th>3567</th>\n",
              "      <td>Band of Brothers</td>\n",
              "      <td>9.4</td>\n",
              "    </tr>\n",
              "    <tr>\n",
              "      <th>2365</th>\n",
              "      <td>The Joy of Painting</td>\n",
              "      <td>9.4</td>\n",
              "    </tr>\n",
              "    <tr>\n",
              "      <th>4128</th>\n",
              "      <td>Green Paradise</td>\n",
              "      <td>9.3</td>\n",
              "    </tr>\n",
              "    <tr>\n",
              "      <th>91</th>\n",
              "      <td>Our Planet</td>\n",
              "      <td>9.3</td>\n",
              "    </tr>\n",
              "    <tr>\n",
              "      <th>3566</th>\n",
              "      <td>The Wire</td>\n",
              "      <td>9.3</td>\n",
              "    </tr>\n",
              "    <tr>\n",
              "      <th>325</th>\n",
              "      <td>Ramayan</td>\n",
              "      <td>9.3</td>\n",
              "    </tr>\n",
              "  </tbody>\n",
              "</table>\n",
              "</div>"
            ],
            "text/plain": [
              "                    Title  IMDb\n",
              "3023              Destiny   9.6\n",
              "0            Breaking Bad   9.5\n",
              "3177         Hungry Henry   9.5\n",
              "3747         Malgudi Days   9.5\n",
              "3567     Band of Brothers   9.4\n",
              "2365  The Joy of Painting   9.4\n",
              "4128       Green Paradise   9.3\n",
              "91             Our Planet   9.3\n",
              "3566             The Wire   9.3\n",
              "325               Ramayan   9.3"
            ]
          },
          "metadata": {
            "tags": []
          },
          "execution_count": 111
        }
      ]
    },
    {
      "cell_type": "code",
      "metadata": {
        "colab": {
          "base_uri": "https://localhost:8080/",
          "height": 359
        },
        "id": "5p6eiLXop7r2",
        "outputId": "7d16c647-26e5-414d-96ad-ce1bf0ffbc3e"
      },
      "source": [
        "sns.barplot(x='IMDb', y = 'Title',data = top_imdb_rated)"
      ],
      "execution_count": null,
      "outputs": [
        {
          "output_type": "execute_result",
          "data": {
            "text/plain": [
              "<matplotlib.axes._subplots.AxesSubplot at 0x7f7020de5dd8>"
            ]
          },
          "metadata": {
            "tags": []
          },
          "execution_count": 112
        },
        {
          "output_type": "display_data",
          "data": {
            "image/png": "[encoded data removed]",
            "text/plain": [
              "<Figure size 648x360 with 1 Axes>"
            ]
          },
          "metadata": {
            "tags": [],
            "needs_background": "light"
          }
        }
      ]
    },
    {
      "cell_type": "code",
      "metadata": {
        "colab": {
          "base_uri": "https://localhost:8080/",
          "height": 359
        },
        "id": "yb_IWJePeNa4",
        "outputId": "4bcbf664-d3d9-4cdc-9551-65f687151a31"
      },
      "source": [
        "xtop_imdb_rated = df[['Title','IMDb']]\n",
        "xtop_imdb_rated = xtop_imdb_rated.sort_values(by = 'IMDb', ascending = True)[:10]\n",
        "xtop_imdb_rated"
      ],
      "execution_count": null,
      "outputs": [
        {
          "output_type": "execute_result",
          "data": {
            "text/html": [
              "<div>\n",
              "<style scoped>\n",
              "    .dataframe tbody tr th:only-of-type {\n",
              "        vertical-align: middle;\n",
              "    }\n",
              "\n",
              "    .dataframe tbody tr th {\n",
              "        vertical-align: top;\n",
              "    }\n",
              "\n",
              "    .dataframe thead th {\n",
              "        text-align: right;\n",
              "    }\n",
              "</style>\n",
              "<table border=\"1\" class=\"dataframe\">\n",
              "  <thead>\n",
              "    <tr style=\"text-align: right;\">\n",
              "      <th></th>\n",
              "      <th>Title</th>\n",
              "      <th>IMDb</th>\n",
              "    </tr>\n",
              "  </thead>\n",
              "  <tbody>\n",
              "    <tr>\n",
              "      <th>1807</th>\n",
              "      <td>Be With You</td>\n",
              "      <td>1.0</td>\n",
              "    </tr>\n",
              "    <tr>\n",
              "      <th>2999</th>\n",
              "      <td>A Little Late with Lilly Singh</td>\n",
              "      <td>1.7</td>\n",
              "    </tr>\n",
              "    <tr>\n",
              "      <th>3104</th>\n",
              "      <td>Toddlers &amp; Tiaras</td>\n",
              "      <td>1.8</td>\n",
              "    </tr>\n",
              "    <tr>\n",
              "      <th>3144</th>\n",
              "      <td>My Super Sweet 16</td>\n",
              "      <td>1.8</td>\n",
              "    </tr>\n",
              "    <tr>\n",
              "      <th>1818</th>\n",
              "      <td>Game Winning Hit</td>\n",
              "      <td>1.8</td>\n",
              "    </tr>\n",
              "    <tr>\n",
              "      <th>3145</th>\n",
              "      <td>The Proposal</td>\n",
              "      <td>1.8</td>\n",
              "    </tr>\n",
              "    <tr>\n",
              "      <th>3060</th>\n",
              "      <td>The High Fructose Adventures of Annoying Orange</td>\n",
              "      <td>2.0</td>\n",
              "    </tr>\n",
              "    <tr>\n",
              "      <th>3292</th>\n",
              "      <td>Underworld, Inc.</td>\n",
              "      <td>2.1</td>\n",
              "    </tr>\n",
              "    <tr>\n",
              "      <th>4551</th>\n",
              "      <td>Strange Love</td>\n",
              "      <td>2.3</td>\n",
              "    </tr>\n",
              "    <tr>\n",
              "      <th>1498</th>\n",
              "      <td>The Goop Lab</td>\n",
              "      <td>2.3</td>\n",
              "    </tr>\n",
              "  </tbody>\n",
              "</table>\n",
              "</div>"
            ],
            "text/plain": [
              "                                                Title  IMDb\n",
              "1807                                      Be With You   1.0\n",
              "2999                   A Little Late with Lilly Singh   1.7\n",
              "3104                                Toddlers & Tiaras   1.8\n",
              "3144                                My Super Sweet 16   1.8\n",
              "1818                                 Game Winning Hit   1.8\n",
              "3145                                     The Proposal   1.8\n",
              "3060  The High Fructose Adventures of Annoying Orange   2.0\n",
              "3292                                 Underworld, Inc.   2.1\n",
              "4551                                     Strange Love   2.3\n",
              "1498                                     The Goop Lab   2.3"
            ]
          },
          "metadata": {
            "tags": []
          },
          "execution_count": 113
        }
      ]
    },
    {
      "cell_type": "markdown",
      "metadata": {
        "id": "X2ufKkC2a29V"
      },
      "source": [
        "**Observation**\n",
        "\n",
        "1) *Destiny* is the top IMDb rated TV Show with 9.6 rating\n",
        "\n",
        "2) *Be with you* is the lowest IMDb rated TV show with 1.0 rating"
      ]
    },
    {
      "cell_type": "code",
      "metadata": {
        "colab": {
          "base_uri": "https://localhost:8080/"
        },
        "id": "jgkl8id56IOO",
        "outputId": "2de41f2d-1481-4b86-d02f-accc3a296722"
      },
      "source": [
        "age = df['Age'].value_counts()\n",
        "age"
      ],
      "execution_count": null,
      "outputs": [
        {
          "output_type": "execute_result",
          "data": {
            "text/plain": [
              "16+    3464\n",
              "7+      848\n",
              "18+     750\n",
              "all     545\n",
              "13+       4\n",
              "Name: Age, dtype: int64"
            ]
          },
          "metadata": {
            "tags": []
          },
          "execution_count": 114
        }
      ]
    },
    {
      "cell_type": "code",
      "metadata": {
        "colab": {
          "base_uri": "https://localhost:8080/",
          "height": 320
        },
        "id": "r6rHcGuy7DwZ",
        "outputId": "e68d1599-ac04-4e0f-df59-795ad65bdc23"
      },
      "source": [
        "age.plot.pie(x='Age',autopct='%1.2f%%')"
      ],
      "execution_count": null,
      "outputs": [
        {
          "output_type": "execute_result",
          "data": {
            "text/plain": [
              "<matplotlib.axes._subplots.AxesSubplot at 0x7f7020d7c048>"
            ]
          },
          "metadata": {
            "tags": []
          },
          "execution_count": 115
        },
        {
          "output_type": "display_data",
          "data": {
            "image/png": "[encoded data removed]",
            "text/plain": [
              "<Figure size 648x360 with 1 Axes>"
            ]
          },
          "metadata": {
            "tags": []
          }
        }
      ]
    },
    {
      "cell_type": "code",
      "metadata": {
        "colab": {
          "base_uri": "https://localhost:8080/",
          "height": 173
        },
        "id": "_KXPDSII9V2k",
        "outputId": "fc88c977-8087-49c1-f31f-0df975d60eed"
      },
      "source": [
        "platforms = df[['Netflix', 'Hulu', 'Prime Video', 'Disney+']].apply(pd.Series.value_counts).reset_index()\n",
        "platforms = platforms.T\n",
        "platforms.drop('index',inplace=True)\n",
        "platforms"
      ],
      "execution_count": null,
      "outputs": [
        {
          "output_type": "execute_result",
          "data": {
            "text/html": [
              "<div>\n",
              "<style scoped>\n",
              "    .dataframe tbody tr th:only-of-type {\n",
              "        vertical-align: middle;\n",
              "    }\n",
              "\n",
              "    .dataframe tbody tr th {\n",
              "        vertical-align: top;\n",
              "    }\n",
              "\n",
              "    .dataframe thead th {\n",
              "        text-align: right;\n",
              "    }\n",
              "</style>\n",
              "<table border=\"1\" class=\"dataframe\">\n",
              "  <thead>\n",
              "    <tr style=\"text-align: right;\">\n",
              "      <th></th>\n",
              "      <th>0</th>\n",
              "      <th>1</th>\n",
              "    </tr>\n",
              "  </thead>\n",
              "  <tbody>\n",
              "    <tr>\n",
              "      <th>Netflix</th>\n",
              "      <td>3680</td>\n",
              "      <td>1931</td>\n",
              "    </tr>\n",
              "    <tr>\n",
              "      <th>Hulu</th>\n",
              "      <td>3857</td>\n",
              "      <td>1754</td>\n",
              "    </tr>\n",
              "    <tr>\n",
              "      <th>Prime Video</th>\n",
              "      <td>3467</td>\n",
              "      <td>2144</td>\n",
              "    </tr>\n",
              "    <tr>\n",
              "      <th>Disney+</th>\n",
              "      <td>5431</td>\n",
              "      <td>180</td>\n",
              "    </tr>\n",
              "  </tbody>\n",
              "</table>\n",
              "</div>"
            ],
            "text/plain": [
              "                0     1\n",
              "Netflix      3680  1931\n",
              "Hulu         3857  1754\n",
              "Prime Video  3467  2144\n",
              "Disney+      5431   180"
            ]
          },
          "metadata": {
            "tags": []
          },
          "execution_count": 116
        }
      ]
    },
    {
      "cell_type": "code",
      "metadata": {
        "colab": {
          "base_uri": "https://localhost:8080/",
          "height": 411
        },
        "id": "1NrNO0B7BvLI",
        "outputId": "0caead7e-40b6-4d2b-da22-0b0a01416253"
      },
      "source": [
        "platforms.plot.bar()"
      ],
      "execution_count": null,
      "outputs": [
        {
          "output_type": "execute_result",
          "data": {
            "text/plain": [
              "<matplotlib.axes._subplots.AxesSubplot at 0x7f702112a470>"
            ]
          },
          "metadata": {
            "tags": []
          },
          "execution_count": 117
        },
        {
          "output_type": "display_data",
          "data": {
            "image/png": "[encoded data removed]",
            "text/plain": [
              "<Figure size 648x360 with 1 Axes>"
            ]
          },
          "metadata": {
            "tags": [],
            "needs_background": "light"
          }
        }
      ]
    },
    {
      "cell_type": "markdown",
      "metadata": {
        "id": "9fWGn8q1bJKm"
      },
      "source": [
        "**Observation**\n",
        "\n",
        "Large of number TV Show are present in Prime Video (as mentioned earlier). To be precise, 2144 TV Shows"
      ]
    },
    {
      "cell_type": "code",
      "metadata": {
        "id": "6NasdmVnw4Up"
      },
      "source": [
        "ratingdic = {}\n",
        "for i in ['Netflix', 'Hulu', 'Prime Video', 'Disney+']:\n",
        "  ratingdic['r_'+i] = (df[df[i]==1].IMDb.sum())/(df[df[i]==1][i].sum())\n"
      ],
      "execution_count": null,
      "outputs": []
    },
    {
      "cell_type": "code",
      "metadata": {
        "colab": {
          "base_uri": "https://localhost:8080/",
          "height": 173
        },
        "id": "du2zPLRhyvR_",
        "outputId": "0b2d542b-9b53-4a4e-fd7d-516b98d907bf"
      },
      "source": [
        "rating = pd.DataFrame.from_dict(ratingdic,orient='index',columns=['Rating'])\n",
        "rating "
      ],
      "execution_count": null,
      "outputs": [
        {
          "output_type": "execute_result",
          "data": {
            "text/html": [
              "<div>\n",
              "<style scoped>\n",
              "    .dataframe tbody tr th:only-of-type {\n",
              "        vertical-align: middle;\n",
              "    }\n",
              "\n",
              "    .dataframe tbody tr th {\n",
              "        vertical-align: top;\n",
              "    }\n",
              "\n",
              "    .dataframe thead th {\n",
              "        text-align: right;\n",
              "    }\n",
              "</style>\n",
              "<table border=\"1\" class=\"dataframe\">\n",
              "  <thead>\n",
              "    <tr style=\"text-align: right;\">\n",
              "      <th></th>\n",
              "      <th>Rating</th>\n",
              "    </tr>\n",
              "  </thead>\n",
              "  <tbody>\n",
              "    <tr>\n",
              "      <th>r_Netflix</th>\n",
              "      <td>7.171776</td>\n",
              "    </tr>\n",
              "    <tr>\n",
              "      <th>r_Hulu</th>\n",
              "      <td>7.093387</td>\n",
              "    </tr>\n",
              "    <tr>\n",
              "      <th>r_Prime Video</th>\n",
              "      <td>7.226726</td>\n",
              "    </tr>\n",
              "    <tr>\n",
              "      <th>r_Disney+</th>\n",
              "      <td>6.946667</td>\n",
              "    </tr>\n",
              "  </tbody>\n",
              "</table>\n",
              "</div>"
            ],
            "text/plain": [
              "                 Rating\n",
              "r_Netflix      7.171776\n",
              "r_Hulu         7.093387\n",
              "r_Prime Video  7.226726\n",
              "r_Disney+      6.946667"
            ]
          },
          "metadata": {
            "tags": []
          },
          "execution_count": 129
        }
      ]
    },
    {
      "cell_type": "code",
      "metadata": {
        "colab": {
          "base_uri": "https://localhost:8080/",
          "height": 359
        },
        "id": "urkPz0SQybiq",
        "outputId": "bda443e4-7cbc-42d7-c07c-df7e1cfa9c33"
      },
      "source": [
        "sns.barplot(x='Rating', y =rating.index, data = rating)"
      ],
      "execution_count": null,
      "outputs": [
        {
          "output_type": "execute_result",
          "data": {
            "text/plain": [
              "<matplotlib.axes._subplots.AxesSubplot at 0x7f7020b2ccf8>"
            ]
          },
          "metadata": {
            "tags": []
          },
          "execution_count": 130
        },
        {
          "output_type": "display_data",
          "data": {
            "image/png": "[encoded data removed]",
            "text/plain": [
              "<Figure size 648x360 with 1 Axes>"
            ]
          },
          "metadata": {
            "tags": [],
            "needs_background": "light"
          }
        }
      ]
    },
    {
      "cell_type": "code",
      "metadata": {
        "colab": {
          "base_uri": "https://localhost:8080/",
          "height": 341
        },
        "id": "LH32srAy3LYK",
        "outputId": "8c7bd831-46c8-424b-835f-c5fba1e801bd"
      },
      "source": [
        "rating.plot.line()"
      ],
      "execution_count": null,
      "outputs": [
        {
          "output_type": "execute_result",
          "data": {
            "text/plain": [
              "<matplotlib.axes._subplots.AxesSubplot at 0x7f7020b0d5c0>"
            ]
          },
          "metadata": {
            "tags": []
          },
          "execution_count": 131
        },
        {
          "output_type": "display_data",
          "data": {
            "image/png": "[encoded data removed]",
            "text/plain": [
              "<Figure size 648x360 with 1 Axes>"
            ]
          },
          "metadata": {
            "tags": [],
            "needs_background": "light"
          }
        }
      ]
    },
    {
      "cell_type": "markdown",
      "metadata": {
        "id": "-18bY0WCbpov"
      },
      "source": [
        "**Observation**\n",
        "\n",
        "Most of the TV Shows in Prime Video is highly rated by IMDb. Following the Prime Video we have the Netflix, Hulu and Disney+"
      ]
    },
    {
      "cell_type": "code",
      "metadata": {
        "colab": {
          "base_uri": "https://localhost:8080/"
        },
        "id": "xltVnbKz4gtN",
        "outputId": "f89bf48d-280a-4402-de36-d19411a90a16"
      },
      "source": [
        "platform_agedict = {}\n",
        "for i in ['Netflix', 'Hulu', 'Prime Video', 'Disney+']:\n",
        "  platform_agedict['a_'+i] = df[df[i]==1].Age.value_counts()\n",
        "platform_agedict"
      ],
      "execution_count": null,
      "outputs": [
        {
          "output_type": "execute_result",
          "data": {
            "text/plain": [
              "{'a_Disney+': all    81\n",
              " 7+     66\n",
              " 16+    33\n",
              " Name: Age, dtype: int64, 'a_Hulu': 16+    991\n",
              " 7+     365\n",
              " 18+    239\n",
              " all    159\n",
              " Name: Age, dtype: int64, 'a_Netflix': 16+    1098\n",
              " 18+     359\n",
              " 7+      300\n",
              " all     171\n",
              " 13+       3\n",
              " Name: Age, dtype: int64, 'a_Prime Video': 16+    1545\n",
              " 7+      224\n",
              " all     192\n",
              " 18+     182\n",
              " 13+       1\n",
              " Name: Age, dtype: int64}"
            ]
          },
          "metadata": {
            "tags": []
          },
          "execution_count": 132
        }
      ]
    },
    {
      "cell_type": "code",
      "metadata": {
        "colab": {
          "base_uri": "https://localhost:8080/",
          "height": 173
        },
        "id": "Y2pD63Ou4-nn",
        "outputId": "38f44a72-e58f-45b0-d768-1655f9f292d4"
      },
      "source": [
        "platform_age = pd.DataFrame.from_dict(platform_agedict,orient='index')\n",
        "platform_age "
      ],
      "execution_count": null,
      "outputs": [
        {
          "output_type": "execute_result",
          "data": {
            "text/html": [
              "<div>\n",
              "<style scoped>\n",
              "    .dataframe tbody tr th:only-of-type {\n",
              "        vertical-align: middle;\n",
              "    }\n",
              "\n",
              "    .dataframe tbody tr th {\n",
              "        vertical-align: top;\n",
              "    }\n",
              "\n",
              "    .dataframe thead th {\n",
              "        text-align: right;\n",
              "    }\n",
              "</style>\n",
              "<table border=\"1\" class=\"dataframe\">\n",
              "  <thead>\n",
              "    <tr style=\"text-align: right;\">\n",
              "      <th></th>\n",
              "      <th>16+</th>\n",
              "      <th>18+</th>\n",
              "      <th>7+</th>\n",
              "      <th>all</th>\n",
              "      <th>13+</th>\n",
              "    </tr>\n",
              "  </thead>\n",
              "  <tbody>\n",
              "    <tr>\n",
              "      <th>a_Netflix</th>\n",
              "      <td>1098</td>\n",
              "      <td>359.0</td>\n",
              "      <td>300</td>\n",
              "      <td>171</td>\n",
              "      <td>3.0</td>\n",
              "    </tr>\n",
              "    <tr>\n",
              "      <th>a_Hulu</th>\n",
              "      <td>991</td>\n",
              "      <td>239.0</td>\n",
              "      <td>365</td>\n",
              "      <td>159</td>\n",
              "      <td>NaN</td>\n",
              "    </tr>\n",
              "    <tr>\n",
              "      <th>a_Prime Video</th>\n",
              "      <td>1545</td>\n",
              "      <td>182.0</td>\n",
              "      <td>224</td>\n",
              "      <td>192</td>\n",
              "      <td>1.0</td>\n",
              "    </tr>\n",
              "    <tr>\n",
              "      <th>a_Disney+</th>\n",
              "      <td>33</td>\n",
              "      <td>NaN</td>\n",
              "      <td>66</td>\n",
              "      <td>81</td>\n",
              "      <td>NaN</td>\n",
              "    </tr>\n",
              "  </tbody>\n",
              "</table>\n",
              "</div>"
            ],
            "text/plain": [
              "                16+    18+   7+  all  13+\n",
              "a_Netflix      1098  359.0  300  171  3.0\n",
              "a_Hulu          991  239.0  365  159  NaN\n",
              "a_Prime Video  1545  182.0  224  192  1.0\n",
              "a_Disney+        33    NaN   66   81  NaN"
            ]
          },
          "metadata": {
            "tags": []
          },
          "execution_count": 133
        }
      ]
    },
    {
      "cell_type": "code",
      "metadata": {
        "colab": {
          "base_uri": "https://localhost:8080/"
        },
        "id": "fPdLuACG5cYd",
        "outputId": "063d9ba8-d21b-436f-a5ad-9480f45e8863"
      },
      "source": [
        "platform_age.info()"
      ],
      "execution_count": null,
      "outputs": [
        {
          "output_type": "stream",
          "text": [
            "<class 'pandas.core.frame.DataFrame'>\n",
            "Index: 4 entries, a_Netflix to a_Disney+\n",
            "Data columns (total 5 columns):\n",
            " #   Column  Non-Null Count  Dtype  \n",
            "---  ------  --------------  -----  \n",
            " 0   16+     4 non-null      int64  \n",
            " 1   18+     3 non-null      float64\n",
            " 2   7+      4 non-null      int64  \n",
            " 3   all     4 non-null      int64  \n",
            " 4   13+     2 non-null      float64\n",
            "dtypes: float64(2), int64(3)\n",
            "memory usage: 192.0+ bytes\n"
          ],
          "name": "stdout"
        }
      ]
    },
    {
      "cell_type": "code",
      "metadata": {
        "colab": {
          "base_uri": "https://localhost:8080/",
          "height": 173
        },
        "id": "Htl8QtCM5f3D",
        "outputId": "229e390a-0c6c-43df-e176-8d78763285ce"
      },
      "source": [
        "platform_age.fillna(0,inplace = True)\n",
        "platform_age"
      ],
      "execution_count": null,
      "outputs": [
        {
          "output_type": "execute_result",
          "data": {
            "text/html": [
              "<div>\n",
              "<style scoped>\n",
              "    .dataframe tbody tr th:only-of-type {\n",
              "        vertical-align: middle;\n",
              "    }\n",
              "\n",
              "    .dataframe tbody tr th {\n",
              "        vertical-align: top;\n",
              "    }\n",
              "\n",
              "    .dataframe thead th {\n",
              "        text-align: right;\n",
              "    }\n",
              "</style>\n",
              "<table border=\"1\" class=\"dataframe\">\n",
              "  <thead>\n",
              "    <tr style=\"text-align: right;\">\n",
              "      <th></th>\n",
              "      <th>16+</th>\n",
              "      <th>18+</th>\n",
              "      <th>7+</th>\n",
              "      <th>all</th>\n",
              "      <th>13+</th>\n",
              "    </tr>\n",
              "  </thead>\n",
              "  <tbody>\n",
              "    <tr>\n",
              "      <th>a_Netflix</th>\n",
              "      <td>1098</td>\n",
              "      <td>359.0</td>\n",
              "      <td>300</td>\n",
              "      <td>171</td>\n",
              "      <td>3.0</td>\n",
              "    </tr>\n",
              "    <tr>\n",
              "      <th>a_Hulu</th>\n",
              "      <td>991</td>\n",
              "      <td>239.0</td>\n",
              "      <td>365</td>\n",
              "      <td>159</td>\n",
              "      <td>0.0</td>\n",
              "    </tr>\n",
              "    <tr>\n",
              "      <th>a_Prime Video</th>\n",
              "      <td>1545</td>\n",
              "      <td>182.0</td>\n",
              "      <td>224</td>\n",
              "      <td>192</td>\n",
              "      <td>1.0</td>\n",
              "    </tr>\n",
              "    <tr>\n",
              "      <th>a_Disney+</th>\n",
              "      <td>33</td>\n",
              "      <td>0.0</td>\n",
              "      <td>66</td>\n",
              "      <td>81</td>\n",
              "      <td>0.0</td>\n",
              "    </tr>\n",
              "  </tbody>\n",
              "</table>\n",
              "</div>"
            ],
            "text/plain": [
              "                16+    18+   7+  all  13+\n",
              "a_Netflix      1098  359.0  300  171  3.0\n",
              "a_Hulu          991  239.0  365  159  0.0\n",
              "a_Prime Video  1545  182.0  224  192  1.0\n",
              "a_Disney+        33    0.0   66   81  0.0"
            ]
          },
          "metadata": {
            "tags": []
          },
          "execution_count": 135
        }
      ]
    },
    {
      "cell_type": "code",
      "metadata": {
        "colab": {
          "base_uri": "https://localhost:8080/",
          "height": 428
        },
        "id": "d4--q6cB6TIU",
        "outputId": "0fc659a0-952d-4299-f8bd-81276b564aba"
      },
      "source": [
        "platform_age.plot.bar()"
      ],
      "execution_count": null,
      "outputs": [
        {
          "output_type": "execute_result",
          "data": {
            "text/plain": [
              "<matplotlib.axes._subplots.AxesSubplot at 0x7f7020a772b0>"
            ]
          },
          "metadata": {
            "tags": []
          },
          "execution_count": 136
        },
        {
          "output_type": "display_data",
          "data": {
            "image/png": "[encoded data removed]",
            "text/plain": [
              "<Figure size 648x360 with 1 Axes>"
            ]
          },
          "metadata": {
            "tags": [],
            "needs_background": "light"
          }
        }
      ]
    },
    {
      "cell_type": "code",
      "metadata": {
        "colab": {
          "base_uri": "https://localhost:8080/",
          "height": 486
        },
        "id": "hKZp22Sd73iq",
        "outputId": "b3e8b2a2-61dc-4bbf-bc4b-6c347d7b0b25"
      },
      "source": [
        "fig = plt.figure()\n",
        "\n",
        "\n",
        "ax1 = fig.add_axes([0, 0, 0.5, 0.5], aspect = 1)\n",
        "ax1.set_title('Age of Disney+')\n",
        "ax1.pie(platform_aget['a_Disney+'], labels = platform_aget.index,autopct='%1.1f%%')\n",
        "\n",
        "ax2 = fig.add_axes([0.3, 0, 0.5, 0.5], aspect = 1)\n",
        "ax2.set_title('Age of Hulu')\n",
        "ax2.pie(platform_aget['a_Hulu'], labels = platform_aget.index,autopct='%1.1f%%')\n",
        "\n",
        "ax3 = fig.add_axes([0.6, 0, 0.5, 0.5], aspect = 1)\n",
        "ax3.set_title('Age of Netflix')\n",
        "ax3.pie(platform_aget['a_Netflix'], labels = platform_aget.index,autopct='%1.1f%%')\n",
        "\n",
        "ax4 = fig.add_axes([0.9, 0, 0.5, 0.5], aspect = 1)\n",
        "ax4.set_title('Age of Prime Video')\n",
        "ax4.pie(platform_aget['a_Prime Video'], labels = platform_aget.index,autopct='%1.1f%%')"
      ],
      "execution_count": null,
      "outputs": [
        {
          "output_type": "execute_result",
          "data": {
            "text/plain": [
              "([<matplotlib.patches.Wedge at 0x7f70208b9f98>,\n",
              "  <matplotlib.patches.Wedge at 0x7f70208c7780>,\n",
              "  <matplotlib.patches.Wedge at 0x7f70208c7ef0>,\n",
              "  <matplotlib.patches.Wedge at 0x7f70208d36a0>,\n",
              "  <matplotlib.patches.Wedge at 0x7f70208d3e10>],\n",
              " [Text(-0.7028044621058956, 0.8462067643572951, '16+'),\n",
              "  Text(0.090161022325164, -1.0962987686088503, '18+'),\n",
              "  Text(0.6890744541140518, -0.8574242804396326, '7+'),\n",
              "  Text(1.0558541928414014, -0.3084994707600535, 'all'),\n",
              "  Text(1.0999988192934067, -0.001611692623129082, '13+')],\n",
              " [Text(-0.38334788842139755, 0.46156732601307005, '72.1%'),\n",
              "  Text(0.04917873945008945, -0.5979811465139183, '8.5%'),\n",
              "  Text(0.37585879315311915, -0.46768597114889043, '10.4%'),\n",
              "  Text(0.5759204688225824, -0.1682724385963928, '9.0%'),\n",
              "  Text(0.5999993559782217, -0.0008791050671613173, '0.0%')])"
            ]
          },
          "metadata": {
            "tags": []
          },
          "execution_count": 137
        },
        {
          "output_type": "display_data",
          "data": {
            "image/png": "[encoded data removed]",
            "text/plain": [
              "<Figure size 648x360 with 4 Axes>"
            ]
          },
          "metadata": {
            "tags": []
          }
        }
      ]
    },
    {
      "cell_type": "markdown",
      "metadata": {
        "id": "TMcmhL2YclTK"
      },
      "source": [
        "**Observation**\n",
        "\n",
        "1) Most of the TV Shows of Disney+ is accessible to all age, hence good platform for kids\n",
        "\n",
        "2) Hulu is a good streaming platform for children above the age of 7\n",
        "\n",
        "3) While as Netflix and Prime Video are adult contents "
      ]
    },
    {
      "cell_type": "code",
      "metadata": {
        "id": "A83f536vH7H_"
      },
      "source": [
        "yearwise = {}\n",
        "for i in ['Netflix', 'Hulu', 'Prime Video', 'Disney+']:  \n",
        "  yearwise[i+'_year'] = df[df[i] == 1]['Year'].value_counts()\n",
        "\n",
        "dfyearwise = pd.DataFrame.from_dict(yearwise,orient='index')\n",
        "dfyearwise = dfyearwise.T"
      ],
      "execution_count": null,
      "outputs": []
    },
    {
      "cell_type": "code",
      "metadata": {
        "colab": {
          "base_uri": "https://localhost:8080/"
        },
        "id": "82pcmpPMRI2e",
        "outputId": "0fa02c03-df75-46dd-951b-9163767433c0"
      },
      "source": [
        "dfyearwise.fillna(0,inplace = True)\n",
        "dfyearwise.info()"
      ],
      "execution_count": null,
      "outputs": [
        {
          "output_type": "stream",
          "text": [
            "<class 'pandas.core.frame.DataFrame'>\n",
            "Int64Index: 81 entries, 2018 to 1904\n",
            "Data columns (total 4 columns):\n",
            " #   Column            Non-Null Count  Dtype  \n",
            "---  ------            --------------  -----  \n",
            " 0   Netflix_year      81 non-null     float64\n",
            " 1   Hulu_year         81 non-null     float64\n",
            " 2   Prime Video_year  81 non-null     float64\n",
            " 3   Disney+_year      81 non-null     float64\n",
            "dtypes: float64(4)\n",
            "memory usage: 3.2 KB\n"
          ],
          "name": "stdout"
        }
      ]
    },
    {
      "cell_type": "code",
      "metadata": {
        "colab": {
          "base_uri": "https://localhost:8080/",
          "height": 419
        },
        "id": "uDIPSIz9QoTO",
        "outputId": "d8af74c4-edad-45dc-e8d0-37a407c0d4ab"
      },
      "source": [
        "dfyearwise"
      ],
      "execution_count": null,
      "outputs": [
        {
          "output_type": "execute_result",
          "data": {
            "text/html": [
              "<div>\n",
              "<style scoped>\n",
              "    .dataframe tbody tr th:only-of-type {\n",
              "        vertical-align: middle;\n",
              "    }\n",
              "\n",
              "    .dataframe tbody tr th {\n",
              "        vertical-align: top;\n",
              "    }\n",
              "\n",
              "    .dataframe thead th {\n",
              "        text-align: right;\n",
              "    }\n",
              "</style>\n",
              "<table border=\"1\" class=\"dataframe\">\n",
              "  <thead>\n",
              "    <tr style=\"text-align: right;\">\n",
              "      <th></th>\n",
              "      <th>Netflix_year</th>\n",
              "      <th>Hulu_year</th>\n",
              "      <th>Prime Video_year</th>\n",
              "      <th>Disney+_year</th>\n",
              "    </tr>\n",
              "  </thead>\n",
              "  <tbody>\n",
              "    <tr>\n",
              "      <th>2018</th>\n",
              "      <td>272.0</td>\n",
              "      <td>139.0</td>\n",
              "      <td>155.0</td>\n",
              "      <td>13.0</td>\n",
              "    </tr>\n",
              "    <tr>\n",
              "      <th>2019</th>\n",
              "      <td>233.0</td>\n",
              "      <td>109.0</td>\n",
              "      <td>36.0</td>\n",
              "      <td>22.0</td>\n",
              "    </tr>\n",
              "    <tr>\n",
              "      <th>2017</th>\n",
              "      <td>221.0</td>\n",
              "      <td>132.0</td>\n",
              "      <td>305.0</td>\n",
              "      <td>19.0</td>\n",
              "    </tr>\n",
              "    <tr>\n",
              "      <th>2016</th>\n",
              "      <td>219.0</td>\n",
              "      <td>134.0</td>\n",
              "      <td>231.0</td>\n",
              "      <td>10.0</td>\n",
              "    </tr>\n",
              "    <tr>\n",
              "      <th>2015</th>\n",
              "      <td>180.0</td>\n",
              "      <td>132.0</td>\n",
              "      <td>161.0</td>\n",
              "      <td>9.0</td>\n",
              "    </tr>\n",
              "    <tr>\n",
              "      <th>...</th>\n",
              "      <td>...</td>\n",
              "      <td>...</td>\n",
              "      <td>...</td>\n",
              "      <td>...</td>\n",
              "    </tr>\n",
              "    <tr>\n",
              "      <th>1932</th>\n",
              "      <td>0.0</td>\n",
              "      <td>0.0</td>\n",
              "      <td>1.0</td>\n",
              "      <td>0.0</td>\n",
              "    </tr>\n",
              "    <tr>\n",
              "      <th>1949</th>\n",
              "      <td>0.0</td>\n",
              "      <td>0.0</td>\n",
              "      <td>1.0</td>\n",
              "      <td>0.0</td>\n",
              "    </tr>\n",
              "    <tr>\n",
              "      <th>1945</th>\n",
              "      <td>0.0</td>\n",
              "      <td>0.0</td>\n",
              "      <td>1.0</td>\n",
              "      <td>0.0</td>\n",
              "    </tr>\n",
              "    <tr>\n",
              "      <th>1943</th>\n",
              "      <td>0.0</td>\n",
              "      <td>0.0</td>\n",
              "      <td>1.0</td>\n",
              "      <td>0.0</td>\n",
              "    </tr>\n",
              "    <tr>\n",
              "      <th>1904</th>\n",
              "      <td>0.0</td>\n",
              "      <td>0.0</td>\n",
              "      <td>1.0</td>\n",
              "      <td>0.0</td>\n",
              "    </tr>\n",
              "  </tbody>\n",
              "</table>\n",
              "<p>81 rows × 4 columns</p>\n",
              "</div>"
            ],
            "text/plain": [
              "      Netflix_year  Hulu_year  Prime Video_year  Disney+_year\n",
              "2018         272.0      139.0             155.0          13.0\n",
              "2019         233.0      109.0              36.0          22.0\n",
              "2017         221.0      132.0             305.0          19.0\n",
              "2016         219.0      134.0             231.0          10.0\n",
              "2015         180.0      132.0             161.0           9.0\n",
              "...            ...        ...               ...           ...\n",
              "1932           0.0        0.0               1.0           0.0\n",
              "1949           0.0        0.0               1.0           0.0\n",
              "1945           0.0        0.0               1.0           0.0\n",
              "1943           0.0        0.0               1.0           0.0\n",
              "1904           0.0        0.0               1.0           0.0\n",
              "\n",
              "[81 rows x 4 columns]"
            ]
          },
          "metadata": {
            "tags": []
          },
          "execution_count": 140
        }
      ]
    },
    {
      "cell_type": "code",
      "metadata": {
        "colab": {
          "base_uri": "https://localhost:8080/"
        },
        "id": "woHlQwQ1byxL",
        "outputId": "ebef74a4-5893-4fe8-8086-df439ac22033"
      },
      "source": [
        "dfyearwise['Netflix_year'].max()"
      ],
      "execution_count": null,
      "outputs": [
        {
          "output_type": "execute_result",
          "data": {
            "text/plain": [
              "272.0"
            ]
          },
          "metadata": {
            "tags": []
          },
          "execution_count": 141
        }
      ]
    },
    {
      "cell_type": "code",
      "metadata": {
        "id": "-Cw6M96Eb75w",
        "colab": {
          "base_uri": "https://localhost:8080/"
        },
        "outputId": "5a8c0a3a-cef3-4cce-e51e-06a0b6f8556c"
      },
      "source": [
        "dfyearwise['Hulu_year'].max()"
      ],
      "execution_count": null,
      "outputs": [
        {
          "output_type": "execute_result",
          "data": {
            "text/plain": [
              "139.0"
            ]
          },
          "metadata": {
            "tags": []
          },
          "execution_count": 142
        }
      ]
    },
    {
      "cell_type": "code",
      "metadata": {
        "id": "ZWC3L3cib_yU",
        "colab": {
          "base_uri": "https://localhost:8080/"
        },
        "outputId": "eb602238-26a0-47bb-e84a-b866cdfc5b10"
      },
      "source": [
        "dfyearwise['Prime Video_year'].max()"
      ],
      "execution_count": null,
      "outputs": [
        {
          "output_type": "execute_result",
          "data": {
            "text/plain": [
              "305.0"
            ]
          },
          "metadata": {
            "tags": []
          },
          "execution_count": 143
        }
      ]
    },
    {
      "cell_type": "code",
      "metadata": {
        "colab": {
          "base_uri": "https://localhost:8080/"
        },
        "id": "4Njn5YqtPaRm",
        "outputId": "b1c891fa-8911-4ead-ac95-b4cca2c334c1"
      },
      "source": [
        "dfyearwise['Disney+_year'].max()"
      ],
      "execution_count": null,
      "outputs": [
        {
          "output_type": "execute_result",
          "data": {
            "text/plain": [
              "22.0"
            ]
          },
          "metadata": {
            "tags": []
          },
          "execution_count": 144
        }
      ]
    },
    {
      "cell_type": "markdown",
      "metadata": {
        "id": "cYI4sNPAftVe"
      },
      "source": [
        "**Observation**\n",
        "\n",
        "1) In single year large of TV Shows relase in Prime Video. Following the Prime Video there are Netflix.\n",
        "\n",
        "2) In term of new relase Hulu and Disney+ shows a poor performance."
      ]
    },
    {
      "cell_type": "markdown",
      "metadata": {
        "id": "7w9Rg5yZgVuR"
      },
      "source": [
        "# **Conclusion**\n",
        "1) In the given dataset there is data about TV Shows from 1901 to 2020, where we can see a tremendous increase in the number of TV shows by beginning of 21st century\n",
        "\n",
        "2) Prime Video is the most rated streaming platform, which streams adult contents(16+ to be correct) the more, and some kids contents too.\n",
        "\n",
        "3) Following Prime Video, Netflix is the 2nd most rated , most of the TV shows in Netflix are also adult contents but few are accessible to everyone\n",
        "\n",
        "4) Hulu is an average rated streaming platform, which streams kids TV shows\n",
        "\n",
        "5) Disney+ is a poor rated streaming platform, which streams more contents accessible to everyone.\n",
        "\n",
        "In short, all the streaming platforms have pros and concs, but most of the public supported TV shows are streamed by Prime Video"
      ]
    }
  ]
}